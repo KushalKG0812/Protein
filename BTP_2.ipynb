{
 "cells": [
  {
   "cell_type": "code",
   "execution_count": 6,
   "id": "1382ef9c",
   "metadata": {},
   "outputs": [],
   "source": [
    "%matplotlib inline\n",
    "import numpy as np\n",
    "import pylab\n",
    "from mpl_toolkits.mplot3d import Axes3D # for the 3D plots we'll make below\n"
   ]
  },
  {
   "cell_type": "code",
   "execution_count": 13,
   "id": "18acaa9a",
   "metadata": {},
   "outputs": [
    {
     "name": "stdout",
     "output_type": "stream",
     "text": [
      "[]\n",
      "[]\n",
      "[]\n",
      "[]\n"
     ]
    }
   ],
   "source": [
    "def readPDBfile(filename):\n",
    "    '''read a PDB file, extract the ATOM lines, and return\n",
    "       atom number, atom name, residue number, and coords for each'''\n",
    "    # build them up in lists because they are cheap to append\n",
    "    anum = []\n",
    "    aname = []\n",
    "    resno = []\n",
    "    coords = []\n",
    "\n",
    "    #your work goes here. You should read the ATOM lines and append the appropriate\n",
    "    #fields to the lists anum, aname, resno, and coords\n",
    "    \n",
    "\n",
    "    # convert the results to numpy arrays\n",
    "    anum = np.array(anum)\n",
    "    aname = np.array(aname)\n",
    "    coords = np.array(coords)\n",
    "    resno = np.array(resno)\n",
    "\n",
    "    # return the 4 results\n",
    "    return (anum, aname, resno, coords)\n",
    "\n",
    "# Now we will call your function to test it.\n",
    "# We also use these values for testing in the later parts\n",
    "num, name, rn, c = readPDBfile('7hvp.pdb')\n",
    "\n",
    "print(num)\n",
    "print(name)\n",
    "print(rn)\n",
    "print(c)\n"
   ]
  },
  {
   "cell_type": "code",
   "execution_count": 14,
   "id": "bba28e82",
   "metadata": {},
   "outputs": [
    {
     "data": {
      "text/plain": [
       "<Figure size 432x288 with 0 Axes>"
      ]
     },
     "metadata": {},
     "output_type": "display_data"
    }
   ],
   "source": [
    "def drawCA(aname, coords):\n",
    "    '''plot the Calpha backbone of an atom'''\n",
    "    fig = pylab.figure()\n",
    "\n",
    "    # your work goes here\n",
    "    \n",
    "\n",
    "# test your functions\n",
    "drawCA(name, c)\n",
    "\n",
    "#check('Part 2 fig', pylab.gcf(), points=14)"
   ]
  },
  {
   "cell_type": "code",
   "execution_count": 15,
   "id": "21549062",
   "metadata": {},
   "outputs": [],
   "source": [
    "# first a helper function, no need to modify this. \n",
    "# Use it to slice out the 2nd letter of all the atom names like this: \n",
    "# atomType(aname)\n",
    "\n",
    "# this is the function you must write\n",
    "def Hbonds(anum, aname, resno, coords):\n",
    "    '''Find hydrogen bonds'''\n",
    "    pairs = [] # build up the result in this list\n",
    "\n",
    "    #your work goes here\n",
    "    return pairs\n",
    "\n",
    "# now we test your Hbonds function\n",
    "pairs3 = Hbonds(num, name, rn, c)\n",
    "\n",
    "#check('Part 3 pairs', np.array(sorted(pairs3)), points=20)"
   ]
  },
  {
   "cell_type": "code",
   "execution_count": 2,
   "id": "73ec9287",
   "metadata": {},
   "outputs": [
    {
     "name": "stdout",
     "output_type": "stream",
     "text": [
      "\n",
      "Error: File \"-f\" is not exist!\n",
      "\n"
     ]
    },
    {
     "ename": "SystemExit",
     "evalue": "",
     "output_type": "error",
     "traceback": [
      "An exception has occurred, use %tb to see the full traceback.\n",
      "\u001b[1;31mSystemExit\u001b[0m\n"
     ]
    }
   ],
   "source": []
  },
  {
   "cell_type": "code",
   "execution_count": null,
   "id": "35261f5d",
   "metadata": {},
   "outputs": [],
   "source": []
  }
 ],
 "metadata": {
  "kernelspec": {
   "display_name": "Python 3",
   "language": "python",
   "name": "python3"
  },
  "language_info": {
   "codemirror_mode": {
    "name": "ipython",
    "version": 3
   },
   "file_extension": ".py",
   "mimetype": "text/x-python",
   "name": "python",
   "nbconvert_exporter": "python",
   "pygments_lexer": "ipython3",
   "version": "3.8.8"
  }
 },
 "nbformat": 4,
 "nbformat_minor": 5
}
